{
 "cells": [
  {
   "cell_type": "code",
   "execution_count": 32,
   "metadata": {},
   "outputs": [
    {
     "name": "stdout",
     "output_type": "stream",
     "text": [
      "2.3.0\n"
     ]
    }
   ],
   "source": [
    "# import numpy as np\n",
    "# import MDAnalysis as mda\n",
    "import MDAnalysis as mda\n",
    "import MDAnalysis.analysis.rdf as rdf\n",
    "import MDAnalysis.analysis.msd as msd\n",
    "import numpy as np \n",
    "import matplotlib.pyplot as plt\n",
    "print(mda.__version__)"
   ]
  },
  {
   "cell_type": "code",
   "execution_count": 39,
   "metadata": {},
   "outputs": [],
   "source": [
    "# important paths \n",
    "# path to topol file \n",
    "topol = 'Data/equil/kalj_T0.475_n360_v300_30000000_1.lammpstrj'\n",
    "# paths to trajectory files\n",
    "traj_1_5 = 'Data/prod/kalj_T1.5_n360_v300_prod_10000_1.unwrap.dcd'\n",
    "traj_1_0 = 'Data/prod/kalj_T1_n360_v300_prod_50000_1.unwrap.dcd'\n",
    "traj_0_9 = 'Data/prod/kalj_T0.9_n360_v300_prod_150000_1.unwrap.dcd'\n",
    "traj_0_8 = 'Data/prod/kalj_T0.8_n360_v300_prod_150000_1.unwrap.dcd'\n",
    "traj_0_7 = 'Data/prod/kalj_T0.7_n360_v300_prod_180000_1.unwrap.dcd'\n",
    "traj_0_65 = 'Data/prod/kalj_T0.65_n360_v300_prod_350000_1.unwrap.dcd'\n",
    "traj_0_6 = 'Data/prod/kalj_T0.6_n360_v300_prod_1000000_1.unwrap.dcd'\n",
    "traj_0_55 = 'Data/prod/kalj_T0.55_n360_v300_prod_3000000_1.unwrap.dcd'\n",
    "traj_0_5 = 'Data/prod/kalj_T0.5_n360_v300_prod_10000000_1.unwrap.dcd'\n",
    "traj_0_475 = 'Data/prod/kalj_T0.475_n360_v300_prod_30000000_1.unwrap.dcd'"
   ]
  },
  {
   "cell_type": "code",
   "execution_count": 44,
   "metadata": {},
   "outputs": [],
   "source": [
    "# load lampmps data from Data using MDAnalysis\n",
    "prod_1_5 = mda.Universe(topol, traj_1_5, topology_format=\"LAMMPSDUMP\")\n",
    "prod_1_0 = mda.Universe(topol, traj_1_0, topology_format=\"LAMMPSDUMP\")\n",
    "prod_0_9 = mda.Universe(topol, traj_0_9, topology_format=\"LAMMPSDUMP\")\n",
    "prod_0_8 = mda.Universe(topol, traj_0_8, topology_format=\"LAMMPSDUMP\")\n",
    "prod_0_7 = mda.Universe(topol, traj_0_7, topology_format=\"LAMMPSDUMP\")\n",
    "prod_0_65 = mda.Universe(topol, traj_0_65, topology_format=\"LAMMPSDUMP\")\n",
    "prod_0_6 = mda.Universe(topol, traj_0_6, topology_format=\"LAMMPSDUMP\")\n",
    "prod_0_55 = mda.Universe(topol, traj_0_55, topology_format=\"LAMMPSDUMP\")\n",
    "prod_0_5 = mda.Universe(topol, traj_0_5, topology_format=\"LAMMPSDUMP\")\n",
    "prod_0_475 = mda.Universe(topol, traj_0_475, topology_format=\"LAMMPSDUMP\")"
   ]
  },
  {
   "cell_type": "code",
   "execution_count": 45,
   "metadata": {},
   "outputs": [],
   "source": [
    "# compute the radial distribution function between type 1 and type 1 particles, type 2 and type 2, and type 1 and type 2\n",
    "# use the default parameters for the RDF\n",
    "# compute radial distribution function between type 1 and type 1 particles for all files \n",
    "rdf_1_5 = rdf.InterRDF(prod_1_5.select_atoms(\"type 1\"), prod_1_5.select_atoms(\"type 1\"), nbins=100, range=(0.0, 10.0))\n",
    "rdf_1_0 = rdf.InterRDF(prod_1_0.select_atoms(\"type 2\"), prod_1_0.select_atoms(\"type 2\"), nbins=100, range=(0.0, 10.0))\n",
    "\n"
   ]
  },
  {
   "cell_type": "code",
   "execution_count": 47,
   "metadata": {},
   "outputs": [
    {
     "data": {
      "text/plain": [
       "<MDAnalysis.analysis.rdf.InterRDF at 0x7f323357b1f0>"
      ]
     },
     "execution_count": 47,
     "metadata": {},
     "output_type": "execute_result"
    }
   ],
   "source": [
    "# run all radial distribution functions\n",
    "rdf_1_5.run()\n",
    "rdf_1_0.run()"
   ]
  },
  {
   "cell_type": "code",
   "execution_count": 48,
   "metadata": {},
   "outputs": [
    {
     "data": {
      "text/plain": [
       "[<matplotlib.lines.Line2D at 0x7f3233040790>]"
      ]
     },
     "execution_count": 48,
     "metadata": {},
     "output_type": "execute_result"
    },
    {
     "data": {
      "image/png": "[encoded data removed]",
      "text/plain": [
       "<Figure size 640x480 with 1 Axes>"
      ]
     },
     "metadata": {},
     "output_type": "display_data"
    }
   ],
   "source": [
    "# plot the radial distribution function between type 1 and type 1 particles\n",
    "plt.plot(rdf_1_1.bins, rdf_1_1.rdf, label='T=1.5')\n",
    "plt.plot(rdf_1_0.bins, rdf_1_0.rdf, label='T=1.0')"
   ]
  },
  {
   "cell_type": "code",
   "execution_count": 53,
   "metadata": {},
   "outputs": [
    {
     "name": "stdout",
     "output_type": "stream",
     "text": [
      "<MDAnalysis.analysis.msd.EinsteinMSD object at 0x7f323363be50>\n"
     ]
    },
    {
     "ename": "AttributeError",
     "evalue": "'EinsteinMSD' object has no attribute 'msd'",
     "output_type": "error",
     "traceback": [
      "\u001b[0;31m---------------------------------------------------------------------------\u001b[0m",
      "\u001b[0;31mAttributeError\u001b[0m                            Traceback (most recent call last)",
      "Cell \u001b[0;32mIn [53], line 8\u001b[0m\n\u001b[1;32m      6\u001b[0m \u001b[39m# plot msd on log-log scale\u001b[39;00m\n\u001b[1;32m      7\u001b[0m msd_1_5\u001b[39m.\u001b[39mrun()\n\u001b[0;32m----> 8\u001b[0m plt\u001b[39m.\u001b[39mloglog(msd_1_5\u001b[39m.\u001b[39mtimes, msd_1_5\u001b[39m.\u001b[39;49mmsd, label\u001b[39m=\u001b[39m\u001b[39m'\u001b[39m\u001b[39mT=1.5\u001b[39m\u001b[39m'\u001b[39m)\n",
      "\u001b[0;31mAttributeError\u001b[0m: 'EinsteinMSD' object has no attribute 'msd'"
     ]
    }
   ],
   "source": [
    "# compute the mean-squared displacement for type 1 particles at each tempearture\n",
    "# use the default parameters for the MSD\n",
    "# compute the mean-squared displacement for type 1 particles\n",
    "msd_1_5 = msd.EinsteinMSD(prod_1_5.select_atoms(\"type 1\"), msd_type='xyz', fft=True)\n",
    "\n",
    "# plot msd on log-log scale\n",
    "msd_1_5.run()\n",
    "plt.loglog(msd_1_5.times, msd_1_5.msd, label='T=1.5')"
   ]
  },
  {
   "cell_type": "code",
   "execution_count": null,
   "metadata": {},
   "outputs": [],
   "source": []
  }
 ],
 "metadata": {
  "kernelspec": {
   "display_name": "lab_env",
   "language": "python",
   "name": "lab_env"
  },
  "language_info": {
   "codemirror_mode": {
    "name": "ipython",
    "version": 3
   },
   "file_extension": ".py",
   "mimetype": "text/x-python",
   "name": "python",
   "nbconvert_exporter": "python",
   "pygments_lexer": "ipython3",
   "version": "3.9.12"
  },
  "orig_nbformat": 4,
  "vscode": {
   "interpreter": {
    "hash": "5b3ded1ccb95c1d9bd405e7b823d9e85424cde40fbb5985eb47e999ef50e15b4"
   }
  }
 },
 "nbformat": 4,
 "nbformat_minor": 2
}
