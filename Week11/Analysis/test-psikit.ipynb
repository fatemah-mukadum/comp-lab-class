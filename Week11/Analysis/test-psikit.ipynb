{
 "cells": [
  {
   "cell_type": "code",
   "execution_count": 2,
   "metadata": {},
   "outputs": [
    {
     "name": "stdout",
     "output_type": "stream",
     "text": [
      "SCF Energy:  -230.7122796511913\n",
      "HOMO:  -0.3284853235266757\n",
      "LUMO:  0.14565232529487707\n",
      "SCF Total Dipole Moment: 0.0\n"
     ]
    }
   ],
   "source": [
    "from psikit import Psikit\n",
    "pk = Psikit(debug=True,threads=1,memory=12)\n",
    "pk.read_from_smiles(\"c1ccccc1\")\n",
    "print(\"SCF Energy: \", pk.energy())\n",
    "print(\"HOMO: \", pk.HOMO)\n",
    "print(\"LUMO: \", pk.LUMO)\n",
    "x, y, z, total = pk.dipolemoment\n",
    "print(\"SCF Total Dipole Moment: {}\".format(total))\n",
    "# SCF Energy:  -230.712279648862\n",
    "# HOMO:  -0.32848562009092513\n",
    "# LUMO:  0.1456515222506689\n",
    "# SCF Total Dipole Moment: 3.292464934070545e-05"
   ]
  },
  {
   "cell_type": "code",
   "execution_count": 3,
   "metadata": {},
   "outputs": [
    {
     "name": "stdout",
     "output_type": "stream",
     "text": [
      "Optimizer: Optimization complete!\n",
      "Optimized SCF Energy:  -230.7135235424168\n"
     ]
    }
   ],
   "source": [
    "pk = Psikit(debug=True,threads=1,memory=12)\n",
    "pk.read_from_smiles(\"c1ccccc1\")\n",
    "print(\"Optimized SCF Energy: \", pk.optimize())\n",
    "# Optimizer: Optimization complete!\n",
    "# Optimized SCF Energy:  -230.71352354223438"
   ]
  },
  {
   "cell_type": "code",
   "execution_count": 4,
   "metadata": {},
   "outputs": [
    {
     "name": "stdout",
     "output_type": "stream",
     "text": [
      "Optimizer: Optimization failed!\n",
      "Convergence error caught: Could not converge geometry optimization in 9 iterations.\n"
     ]
    },
    {
     "name": "stderr",
     "output_type": "stream",
     "text": [
      "TORS::compute_val: unable to compute torsion value\n"
     ]
    },
    {
     "name": "stdout",
     "output_type": "stream",
     "text": [
      "C ESP:-0.29457521816030324\tRESP:-0.27859887200425365\n",
      "C ESP:0.81742330390398377\tRESP:0.81742330390398388\n",
      "O ESP:-0.60725412586755967\tRESP:-0.60725412586755956\n",
      "O ESP:-0.6663912807923682\tRESP:-0.66639128079236831\n",
      "H ESP:0.099005993842799789\tRESP:0.093680545124116527\n",
      "H ESP:0.099005993842799789\tRESP:0.093680545124116527\n",
      "H ESP:0.099005993842799789\tRESP:0.093680545124116527\n",
      "H ESP:0.45377933938784798\tRESP:0.45377933938784809\n",
      "Optimizer: Optimization complete!\n"
     ]
    },
    {
     "data": {
      "text/plain": [
       "array([-0.29619603,  0.3330564 , -0.34989429, -0.29151692,  0.1261295 ,\n",
       "        0.11871059,  0.12391483,  0.23579591])"
      ]
     },
     "execution_count": 4,
     "metadata": {},
     "output_type": "execute_result"
    }
   ],
   "source": [
    "# REF http://ambermd.org/tutorials/advanced/tutorial1/files/resp_paper_jacs.pdf\n",
    "pk = Psikit(debug=True,threads=1,memory=12)\n",
    "pk.read_from_smiles(\"CC(=O)O\")\n",
    "pk.optimize()\n",
    "# Optimizer: Optimization complete!\n",
    "# -227.82180859253418\n",
    "pk.calc_resp_charges()\n",
    "# array([-0.32506898,  0.83672649, -0.61924915, -0.66135715,  0.10450057,\n",
    "#    0.10478188,  0.10780051,  0.45186584])\n",
    "\n",
    "for atom in pk.mol.GetAtoms(): \n",
    "    print(atom.GetSymbol(), \"ESP:{}\\tRESP:{}\".format(atom.GetProp(\"EP\"), atom.GetProp(\"RESP\"))) \n",
    "\n",
    "# C ESP:-0.49662019588648315\tRESP:-0.3250689814483399\n",
    "# C ESP:0.91473263536048643\t\tRESP:0.83672648554100837\n",
    "# O ESP:-0.63823808477114718\tRESP:-0.61924915363703359\n",
    "# O ESP:-0.6763331997116846\t\tRESP:-0.66135714989354499\n",
    "# H ESP:0.14625849864628995\t\tRESP:0.10450056830656008\n",
    "# H ESP:0.14578513969681847\t\tRESP:0.10478187811883517\n",
    "# H ESP:0.1530843954112609\t\tRESP:0.1078005104750676\n",
    "# H ESP:0.45133081125445906\t\tRESP:0.45186584253744722\n",
    "\n",
    "### Compute Mulliken charges and Lowdin charges\n",
    "\n",
    "pk = Psikit()\n",
    "pk.read_from_smiles(\"CC(=O)O\")\n",
    "pk.optimize() # or pk.energy()\n",
    "\n",
    "pk.calc_mulliken_charges()\n",
    "# array([-0.42203029,  0.72794785, -0.55419051, -0.59333358,  0.16369722,\n",
    "#    0.1636994 ,  0.15462075,  0.35958916])\n",
    "\n",
    "pk.calc_lowdin_charges()\n",
    "#array([-0.30006577,  0.33900448, -0.35983788, -0.28463832,  0.12439944,\n",
    "#    0.12810672,  0.11935266,  0.23367866])"
   ]
  },
  {
   "cell_type": "code",
   "execution_count": 6,
   "metadata": {},
   "outputs": [
    {
     "name": "stdout",
     "output_type": "stream",
     "text": [
      "Optimizer: Optimization complete!\n"
     ]
    },
    {
     "ename": "NameError",
     "evalue": "name 'pymol' is not defined",
     "output_type": "error",
     "traceback": [
      "\u001b[0;31m---------------------------------------------------------------------------\u001b[0m",
      "\u001b[0;31mNameError\u001b[0m                                 Traceback (most recent call last)",
      "Cell \u001b[0;32mIn [6], line 4\u001b[0m\n\u001b[1;32m      2\u001b[0m pk\u001b[39m.\u001b[39mread_from_smiles(\u001b[39m\"\u001b[39m\u001b[39mc1ccccc1\u001b[39m\u001b[39m\"\u001b[39m)\n\u001b[1;32m      3\u001b[0m pk\u001b[39m.\u001b[39moptimize(basis_sets\u001b[39m=\u001b[39m\u001b[39m\"\u001b[39m\u001b[39mscf/sto-3g\u001b[39m\u001b[39m\"\u001b[39m)\n\u001b[0;32m----> 4\u001b[0m pymol \u001b[39m-\u001b[39mR\n\u001b[1;32m      5\u001b[0m pk\u001b[39m.\u001b[39mview_on_pymol()\n",
      "\u001b[0;31mNameError\u001b[0m: name 'pymol' is not defined"
     ]
    }
   ],
   "source": [
    "pk = Psikit(debug=True,threads=1,memory=12)\n",
    "pk.read_from_smiles(\"c1ccccc1\")\n",
    "pk.optimize(basis_sets=\"scf/sto-3g\")\n",
    "pk.view_on_pymol() # launch pymol as a RPC server in advance, just type \"pymol -R\""
   ]
  },
  {
   "cell_type": "code",
   "execution_count": null,
   "metadata": {},
   "outputs": [],
   "source": []
  }
 ],
 "metadata": {
  "kernelspec": {
   "display_name": "lab_env",
   "language": "python",
   "name": "lab_env"
  },
  "language_info": {
   "codemirror_mode": {
    "name": "ipython",
    "version": 3
   },
   "file_extension": ".py",
   "mimetype": "text/x-python",
   "name": "python",
   "nbconvert_exporter": "python",
   "pygments_lexer": "ipython3",
   "version": "3.9.12"
  },
  "orig_nbformat": 4
 },
 "nbformat": 4,
 "nbformat_minor": 2
}
