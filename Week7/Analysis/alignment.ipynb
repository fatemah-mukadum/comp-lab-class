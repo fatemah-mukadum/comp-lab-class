{
 "cells": [
  {
   "cell_type": "code",
   "execution_count": 2,
   "metadata": {},
   "outputs": [],
   "source": [
    "# load mdtraj \n",
    "import mdtraj as md"
   ]
  },
  {
   "cell_type": "code",
   "execution_count": 3,
   "metadata": {},
   "outputs": [],
   "source": [
    "# load pdb file \n",
    "pdb_x = md.load_pdb('/home/fm1484/comp-class/comp-lab-class/Week7/Input/2w9t.pdb')\n",
    "pdb_colab = md.load_pdb('/home/fm1484/comp-class/comp-lab-class/Week7/Input/2W9T_596c5.result/2W9T_596c5_unrelaxed_rank_1_model_5.pdb')"
   ]
  },
  {
   "cell_type": "code",
   "execution_count": 37,
   "metadata": {},
   "outputs": [
    {
     "ename": "ValueError",
     "evalue": "Number of atoms must be consistent!",
     "output_type": "error",
     "traceback": [
      "\u001b[0;31m---------------------------------------------------------------------------\u001b[0m",
      "\u001b[0;31mValueError\u001b[0m                                Traceback (most recent call last)",
      "\u001b[1;32m/home/fm1484/comp-class/comp-lab-class/Week7/Analysis/alignment.ipynb Cell 3\u001b[0m in \u001b[0;36m<cell line: 2>\u001b[0;34m()\u001b[0m\n\u001b[1;32m      <a href='vscode-notebook-cell://ssh-remote%2Bgreene.hpc.nyu.edu/home/fm1484/comp-class/comp-lab-class/Week7/Analysis/alignment.ipynb#W2sdnNjb2RlLXJlbW90ZQ%3D%3D?line=0'>1</a>\u001b[0m \u001b[39m# align the two structures using mdtraj based on alpha carbons \u001b[39;00m\n\u001b[0;32m----> <a href='vscode-notebook-cell://ssh-remote%2Bgreene.hpc.nyu.edu/home/fm1484/comp-class/comp-lab-class/Week7/Analysis/alignment.ipynb#W2sdnNjb2RlLXJlbW90ZQ%3D%3D?line=1'>2</a>\u001b[0m aligned_x \u001b[39m=\u001b[39m md\u001b[39m.\u001b[39;49mTrajectory\u001b[39m.\u001b[39;49msuperpose(pdb_colab, pdb_x, atom_indices\u001b[39m=\u001b[39;49mpdb_colab\u001b[39m.\u001b[39;49mtop\u001b[39m.\u001b[39;49mselect(\u001b[39m'\u001b[39;49m\u001b[39mname CA and chainid 0\u001b[39;49m\u001b[39m'\u001b[39;49m), \n\u001b[1;32m      <a href='vscode-notebook-cell://ssh-remote%2Bgreene.hpc.nyu.edu/home/fm1484/comp-class/comp-lab-class/Week7/Analysis/alignment.ipynb#W2sdnNjb2RlLXJlbW90ZQ%3D%3D?line=2'>3</a>\u001b[0m ref_atom_indices\u001b[39m=\u001b[39;49mpdb_x\u001b[39m.\u001b[39;49mtop\u001b[39m.\u001b[39;49mselect(\u001b[39m'\u001b[39;49m\u001b[39mname CA and chainid 0\u001b[39;49m\u001b[39m'\u001b[39;49m))\n\u001b[1;32m      <a href='vscode-notebook-cell://ssh-remote%2Bgreene.hpc.nyu.edu/home/fm1484/comp-class/comp-lab-class/Week7/Analysis/alignment.ipynb#W2sdnNjb2RlLXJlbW90ZQ%3D%3D?line=4'>5</a>\u001b[0m \u001b[39m# compute number of atoms in the structure\u001b[39;00m\n\u001b[1;32m      <a href='vscode-notebook-cell://ssh-remote%2Bgreene.hpc.nyu.edu/home/fm1484/comp-class/comp-lab-class/Week7/Analysis/alignment.ipynb#W2sdnNjb2RlLXJlbW90ZQ%3D%3D?line=5'>6</a>\u001b[0m x_atoms \u001b[39m=\u001b[39m pdb_x\u001b[39m.\u001b[39mn_atoms\n",
      "File \u001b[0;32m/ext3/miniconda3/lib/python3.9/site-packages/mdtraj/core/trajectory.py:1023\u001b[0m, in \u001b[0;36mTrajectory.superpose\u001b[0;34m(self, reference, frame, atom_indices, ref_atom_indices, parallel)\u001b[0m\n\u001b[1;32m   1019\u001b[0m     ref_atom_indices \u001b[39m=\u001b[39m atom_indices\n\u001b[1;32m   1021\u001b[0m \u001b[39mif\u001b[39;00m \u001b[39mnot\u001b[39;00m \u001b[39misinstance\u001b[39m(ref_atom_indices, \u001b[39mslice\u001b[39m) \u001b[39mand\u001b[39;00m (\n\u001b[1;32m   1022\u001b[0m     \u001b[39mlen\u001b[39m(ref_atom_indices) \u001b[39m!=\u001b[39m \u001b[39mlen\u001b[39m(atom_indices)):\n\u001b[0;32m-> 1023\u001b[0m     \u001b[39mraise\u001b[39;00m \u001b[39mValueError\u001b[39;00m(\u001b[39m\"\u001b[39m\u001b[39mNumber of atoms must be consistent!\u001b[39m\u001b[39m\"\u001b[39m)\n\u001b[1;32m   1025\u001b[0m n_frames \u001b[39m=\u001b[39m \u001b[39mself\u001b[39m\u001b[39m.\u001b[39mxyz\u001b[39m.\u001b[39mshape[\u001b[39m0\u001b[39m]\n\u001b[1;32m   1026\u001b[0m self_align_xyz \u001b[39m=\u001b[39m np\u001b[39m.\u001b[39masarray(\u001b[39mself\u001b[39m\u001b[39m.\u001b[39mxyz[:, atom_indices, :], order\u001b[39m=\u001b[39m\u001b[39m'\u001b[39m\u001b[39mc\u001b[39m\u001b[39m'\u001b[39m)\n",
      "\u001b[0;31mValueError\u001b[0m: Number of atoms must be consistent!"
     ]
    }
   ],
   "source": [
    "# align the two structures using mdtraj based on alpha carbons \n",
    "aligned_x = md.Trajectory.superpose(pdb_colab, pdb_x, atom_indices=pdb_colab.top.select('name CA and chainid 0'), \n",
    "ref_atom_indices=pdb_x.top.select('name CA and chainid 0'))\n",
    "\n",
    "# compute number of atoms in the structure\n",
    "x_atoms = pdb_x.n_atoms\n",
    "colab_atoms = pdb_colab.n_atoms\n",
    "print(x_atoms)\n",
    "print(colab_atoms)"
   ]
  },
  {
   "cell_type": "code",
   "execution_count": null,
   "metadata": {},
   "outputs": [],
   "source": []
  },
  {
   "cell_type": "code",
   "execution_count": null,
   "metadata": {},
   "outputs": [],
   "source": []
  }
 ],
 "metadata": {
  "kernelspec": {
   "display_name": "lab_env",
   "language": "python",
   "name": "lab_env"
  },
  "language_info": {
   "codemirror_mode": {
    "name": "ipython",
    "version": 3
   },
   "file_extension": ".py",
   "mimetype": "text/x-python",
   "name": "python",
   "nbconvert_exporter": "python",
   "pygments_lexer": "ipython3",
   "version": "3.9.12"
  },
  "orig_nbformat": 4
 },
 "nbformat": 4,
 "nbformat_minor": 2
}
